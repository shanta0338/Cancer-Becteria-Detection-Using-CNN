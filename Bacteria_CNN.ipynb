{
 "cells": [
  {
   "cell_type": "code",
   "execution_count": 2,
   "id": "3c194e35-4d22-451e-8556-ae0cd5e14302",
   "metadata": {},
   "outputs": [],
   "source": [
    "import pandas as pd\n",
    "import numpy as np\n",
    "import matplotlib.pyplot as plt\n",
    "import seaborn as sns"
   ]
  },
  {
   "cell_type": "code",
   "execution_count": 3,
   "id": "dc895663-d4e2-4980-bc7e-f4d2ab28578e",
   "metadata": {},
   "outputs": [],
   "source": [
    "import tensorflow as tf\n",
    "from tensorflow import keras\n",
    "from keras import layers"
   ]
  },
  {
   "cell_type": "code",
   "execution_count": 4,
   "id": "ed947628-6f7f-4baa-8d01-e1a7b4afe31a",
   "metadata": {},
   "outputs": [],
   "source": [
    "path = r\"D:\\Extra\\Testing dataset\\Bacteria\""
   ]
  },
  {
   "cell_type": "code",
   "execution_count": 5,
   "id": "e495201b-b3ed-4be5-8727-51a8718c9005",
   "metadata": {},
   "outputs": [],
   "source": [
    "batch_size = 32\n",
    "image_size = (128, 128)"
   ]
  },
  {
   "cell_type": "code",
   "execution_count": 6,
   "id": "23ebd781-1fb9-4d81-b9b0-ce84d555f870",
   "metadata": {},
   "outputs": [
    {
     "name": "stdout",
     "output_type": "stream",
     "text": [
      "Found 15000 files belonging to 3 classes.\n"
     ]
    }
   ],
   "source": [
    "dataset = keras.preprocessing.image_dataset_from_directory(\n",
    "    \n",
    "    directory= path,\n",
    "    image_size= image_size,\n",
    "    batch_size= batch_size\n",
    ")"
   ]
  },
  {
   "cell_type": "code",
   "execution_count": 7,
   "id": "9ff19947-c24a-41f2-bbdd-e44bbdc68f9c",
   "metadata": {},
   "outputs": [
    {
     "data": {
      "text/plain": [
       "469"
      ]
     },
     "execution_count": 7,
     "metadata": {},
     "output_type": "execute_result"
    }
   ],
   "source": [
    "len(dataset)"
   ]
  },
  {
   "cell_type": "code",
   "execution_count": 8,
   "id": "2ef99e4a-6acb-493c-b8e1-b0f23545ea3a",
   "metadata": {},
   "outputs": [],
   "source": [
    "train_size = int(0.8 * len(dataset))"
   ]
  },
  {
   "cell_type": "code",
   "execution_count": 9,
   "id": "1681416d-3eee-4f11-87db-e297cb06e5e2",
   "metadata": {},
   "outputs": [],
   "source": [
    "test_size = int(len(dataset) - train_size)"
   ]
  },
  {
   "cell_type": "code",
   "execution_count": 10,
   "id": "a91ac5ec-2611-45d8-bb81-7faa3a2a3380",
   "metadata": {},
   "outputs": [],
   "source": [
    "train_data = dataset.take(train_size)\n",
    "test_data = dataset.skip(train_size)"
   ]
  },
  {
   "cell_type": "code",
   "execution_count": 11,
   "id": "db35fe12-e988-483c-a513-7bab1aea53bc",
   "metadata": {},
   "outputs": [],
   "source": [
    "def load_data(dataset):\n",
    "    x = []\n",
    "    y = []\n",
    "    for images, labels in dataset:\n",
    "        x.append(images)\n",
    "        y.append(labels)\n",
    "    x = tf.concat(x, axis=0) / 255.0\n",
    "    y = tf.concat(y, axis=0)\n",
    "    return x, y\n",
    "\n",
    "x_train, y_train = load_data(train_data)\n",
    "x_test, y_test = load_data(test_data)\n"
   ]
  },
  {
   "cell_type": "code",
   "execution_count": 12,
   "id": "2556c5f9-62f4-4fa4-a3a2-542350856522",
   "metadata": {},
   "outputs": [
    {
     "name": "stdout",
     "output_type": "stream",
     "text": [
      "(12000, 128, 128, 3)\n",
      "(12000,)\n"
     ]
    }
   ],
   "source": [
    "print(x_train.shape)\n",
    "print(y_train.shape)"
   ]
  },
  {
   "cell_type": "code",
   "execution_count": 13,
   "id": "c1c574ca-55ce-4e02-a994-380b18b080cb",
   "metadata": {},
   "outputs": [],
   "source": [
    "model = keras.Sequential()"
   ]
  },
  {
   "cell_type": "code",
   "execution_count": 14,
   "id": "5439baea-1401-4b48-a9af-2b8cbd12ceff",
   "metadata": {},
   "outputs": [],
   "source": [
    "model.add(layers.Input(shape=(128, 128, 3)))"
   ]
  },
  {
   "cell_type": "code",
   "execution_count": 15,
   "id": "855148a6-48fa-4ab4-baa9-89abb8d5f0cc",
   "metadata": {},
   "outputs": [],
   "source": [
    "model.add(tf.keras.layers.Conv2D(filters= 64,kernel_size= 3, strides=1, activation='relu'))\n",
    "model.add(tf.keras.layers.MaxPool2D(pool_size=(2, 2)))\n",
    "model.add(tf.keras.layers.Conv2D(filters= 32,kernel_size= 3, strides=1, activation='relu'))\n",
    "model.add(tf.keras.layers.MaxPool2D(pool_size=(2, 2)))\n",
    "model.add(tf.keras.layers.Conv2D(filters= 16,kernel_size= 3, strides=1, activation='relu'))\n",
    "model.add(tf.keras.layers.MaxPool2D(pool_size=(2, 2)))\n",
    "model.add(tf.keras.layers.Flatten())\n",
    "model.add(tf.keras.layers.Dense(128, activation='relu'))\n",
    "model.add(tf.keras.layers.Dropout(0.3))\n",
    "model.add(tf.keras.layers.Dense(64, activation='relu'))\n",
    "model.add(tf.keras.layers.Dropout(0.3))\n",
    "model.add(tf.keras.layers.Dense(32, activation='relu'))\n",
    "model.add(tf.keras.layers.Dropout(0.3))\n",
    "model.add(tf.keras.layers.Dense(16, activation='relu'))\n",
    "model.add(tf.keras.layers.Dropout(0.3))\n",
    "model.add(tf.keras.layers.Dense(3, activation='softmax'))"
   ]
  },
  {
   "cell_type": "code",
   "execution_count": 16,
   "id": "b37f7c11-5d85-4d6e-a9aa-9048c331b6cb",
   "metadata": {},
   "outputs": [],
   "source": [
    "model.compile(\n",
    "    loss = tf.keras.losses.SparseCategoricalCrossentropy(),\n",
    "    optimizer= tf.keras.optimizers.Adam(learning_rate= 0.001),\n",
    "    metrics=['accuracy']\n",
    ")"
   ]
  },
  {
   "cell_type": "code",
   "execution_count": 17,
   "id": "bbfabbf6-6b4e-486b-9ae7-dda3386c8730",
   "metadata": {
    "scrolled": true
   },
   "outputs": [
    {
     "name": "stdout",
     "output_type": "stream",
     "text": [
      "Epoch 1/10\n",
      "240/240 - 42s - 174ms/step - accuracy: 0.5945 - loss: 0.7077\n",
      "Epoch 2/10\n",
      "240/240 - 43s - 179ms/step - accuracy: 0.6607 - loss: 0.5621\n",
      "Epoch 3/10\n",
      "240/240 - 42s - 174ms/step - accuracy: 0.7095 - loss: 0.5237\n",
      "Epoch 4/10\n",
      "240/240 - 45s - 187ms/step - accuracy: 0.8453 - loss: 0.3923\n",
      "Epoch 5/10\n",
      "240/240 - 43s - 178ms/step - accuracy: 0.8868 - loss: 0.3074\n",
      "Epoch 6/10\n",
      "240/240 - 41s - 171ms/step - accuracy: 0.9025 - loss: 0.2482\n",
      "Epoch 7/10\n",
      "240/240 - 40s - 166ms/step - accuracy: 0.9178 - loss: 0.2103\n",
      "Epoch 8/10\n",
      "240/240 - 48s - 199ms/step - accuracy: 0.9263 - loss: 0.1967\n",
      "Epoch 9/10\n",
      "240/240 - 44s - 183ms/step - accuracy: 0.9337 - loss: 0.1798\n",
      "Epoch 10/10\n",
      "240/240 - 42s - 175ms/step - accuracy: 0.9402 - loss: 0.1549\n"
     ]
    },
    {
     "data": {
      "text/plain": [
       "<keras.src.callbacks.history.History at 0x20e04b98bf0>"
      ]
     },
     "execution_count": 17,
     "metadata": {},
     "output_type": "execute_result"
    },
    {
     "data": {
      "text/plain": [
       "<keras.src.callbacks.history.History at 0x21dd7b5c230>"
      ]
     },
     "execution_count": 42,
     "metadata": {},
     "output_type": "execute_result"
    }
   ],
   "source": [
    "model.fit(x_train, y_train, batch_size = 50, epochs = 10, verbose = 2)"
   ]
  },
  {
   "cell_type": "code",
   "execution_count": 18,
   "id": "82d4047b-b23b-490f-b49f-1ce580499b22",
   "metadata": {},
   "outputs": [
    {
     "name": "stdout",
     "output_type": "stream",
     "text": [
      "94/94 - 3s - 33ms/step - accuracy: 0.9580 - loss: 0.1247\n"
     ]
    },
    {
     "data": {
      "text/plain": [
       "[0.12474335730075836, 0.9580000042915344]"
      ]
     },
     "execution_count": 18,
     "metadata": {},
     "output_type": "execute_result"
    }
   ],
   "source": [
    "model.evaluate(x_test, y_test, verbose=2)"
   ]
  }
 ],
 "metadata": {
  "kernelspec": {
   "display_name": "Python 3 (ipykernel)",
   "language": "python",
   "name": "python3"
  },
  "language_info": {
   "codemirror_mode": {
    "name": "ipython",
    "version": 3
   },
   "file_extension": ".py",
   "mimetype": "text/x-python",
   "name": "python",
   "nbconvert_exporter": "python",
   "pygments_lexer": "ipython3",
   "version": "3.12.8"
  }
 },
 "nbformat": 4,
 "nbformat_minor": 5
}
