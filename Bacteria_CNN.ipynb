{
 "cells": [
  {
   "cell_type": "code",
   "execution_count": 24,
   "id": "3c194e35-4d22-451e-8556-ae0cd5e14302",
   "metadata": {},
   "outputs": [],
   "source": [
    "import pandas as pd\n",
    "import numpy as np\n",
    "import matplotlib.pyplot as plt\n",
    "import seaborn as sns"
   ]
  },
  {
   "cell_type": "code",
   "execution_count": 25,
   "id": "dc895663-d4e2-4980-bc7e-f4d2ab28578e",
   "metadata": {},
   "outputs": [],
   "source": [
    "import tensorflow as tf\n",
    "from tensorflow import keras\n",
    "from keras import layers"
   ]
  },
  {
   "cell_type": "code",
   "execution_count": 26,
   "id": "ed947628-6f7f-4baa-8d01-e1a7b4afe31a",
   "metadata": {},
   "outputs": [],
   "source": [
    "path = r\"D:\\Study\\Testing dataset\\Bacteria\""
   ]
  },
  {
   "cell_type": "code",
   "execution_count": 27,
   "id": "e495201b-b3ed-4be5-8727-51a8718c9005",
   "metadata": {},
   "outputs": [],
   "source": [
    "batch_size = 32\n",
    "image_size = (128, 128)"
   ]
  },
  {
   "cell_type": "code",
   "execution_count": 28,
   "id": "23ebd781-1fb9-4d81-b9b0-ce84d555f870",
   "metadata": {},
   "outputs": [
    {
     "name": "stdout",
     "output_type": "stream",
     "text": [
      "Found 15000 files belonging to 3 classes.\n"
     ]
    }
   ],
   "source": [
    "dataset = keras.preprocessing.image_dataset_from_directory(\n",
    "    \n",
    "    directory= path,\n",
    "    image_size= image_size,\n",
    "    batch_size= batch_size\n",
    ")"
   ]
  },
  {
   "cell_type": "code",
   "execution_count": 29,
   "id": "9ff19947-c24a-41f2-bbdd-e44bbdc68f9c",
   "metadata": {},
   "outputs": [
    {
     "data": {
      "text/plain": [
       "469"
      ]
     },
     "execution_count": 29,
     "metadata": {},
     "output_type": "execute_result"
    }
   ],
   "source": [
    "len(dataset)"
   ]
  },
  {
   "cell_type": "code",
   "execution_count": 30,
   "id": "2ef99e4a-6acb-493c-b8e1-b0f23545ea3a",
   "metadata": {},
   "outputs": [],
   "source": [
    "train_size = int(0.8 * len(dataset))"
   ]
  },
  {
   "cell_type": "code",
   "execution_count": 31,
   "id": "1681416d-3eee-4f11-87db-e297cb06e5e2",
   "metadata": {},
   "outputs": [],
   "source": [
    "test_size = int(len(dataset) - train_size)"
   ]
  },
  {
   "cell_type": "code",
   "execution_count": 32,
   "id": "a91ac5ec-2611-45d8-bb81-7faa3a2a3380",
   "metadata": {},
   "outputs": [],
   "source": [
    "train_data = dataset.take(train_size)\n",
    "test_data = dataset.skip(train_size)"
   ]
  },
  {
   "cell_type": "code",
   "execution_count": 33,
   "id": "8c9dbd6e-7f14-4e8a-ba33-517d44a63202",
   "metadata": {},
   "outputs": [],
   "source": [
    "for images, labels in train_data:\n",
    "    x_train, y_train = images, labels\n",
    "    x_train = x_train / 255.0"
   ]
  },
  {
   "cell_type": "code",
   "execution_count": 34,
   "id": "ba375b88-6d62-4604-b540-eb1a7cf6511b",
   "metadata": {},
   "outputs": [],
   "source": [
    "for images, labels in test_data:\n",
    "    x_test, y_test = images, labels\n",
    "    x_test = x_test / 255.0"
   ]
  },
  {
   "cell_type": "code",
   "execution_count": 35,
   "id": "2556c5f9-62f4-4fa4-a3a2-542350856522",
   "metadata": {},
   "outputs": [
    {
     "name": "stdout",
     "output_type": "stream",
     "text": [
      "(32, 128, 128, 3)\n",
      "(32,)\n"
     ]
    }
   ],
   "source": [
    "print(x_train.shape)\n",
    "print(y_train.shape)"
   ]
  },
  {
   "cell_type": "code",
   "execution_count": 36,
   "id": "c1c574ca-55ce-4e02-a994-380b18b080cb",
   "metadata": {},
   "outputs": [],
   "source": [
    "model = keras.Sequential()"
   ]
  },
  {
   "cell_type": "code",
   "execution_count": 37,
   "id": "5439baea-1401-4b48-a9af-2b8cbd12ceff",
   "metadata": {},
   "outputs": [],
   "source": [
    "model.add(layers.Input(shape=(128, 128, 3)))"
   ]
  },
  {
   "cell_type": "code",
   "execution_count": 38,
   "id": "855148a6-48fa-4ab4-baa9-89abb8d5f0cc",
   "metadata": {},
   "outputs": [],
   "source": [
    "model.add(tf.keras.layers.Conv2D(filters= 64,kernel_size= 3, strides=1, activation='relu'))\n",
    "model.add(tf.keras.layers.MaxPool2D(pool_size=(2, 2)))\n",
    "model.add(tf.keras.layers.Conv2D(filters= 32,kernel_size= 3, strides=1, activation='relu'))\n",
    "model.add(tf.keras.layers.MaxPool2D(pool_size=(2, 2)))\n",
    "model.add(tf.keras.layers.Conv2D(filters= 16,kernel_size= 3, strides=1, activation='relu'))\n",
    "model.add(tf.keras.layers.MaxPool2D(pool_size=(2, 2)))\n",
    "model.add(tf.keras.layers.Flatten())\n",
    "model.add(tf.keras.layers.Dense(128, activation='relu'))\n",
    "model.add(tf.keras.layers.Dropout(0.3))\n",
    "model.add(tf.keras.layers.Dense(64, activation='relu'))\n",
    "model.add(tf.keras.layers.Dropout(0.3))\n",
    "model.add(tf.keras.layers.Dense(32, activation='relu'))\n",
    "model.add(tf.keras.layers.Dropout(0.3))\n",
    "model.add(tf.keras.layers.Dense(16, activation='relu'))\n",
    "model.add(tf.keras.layers.Dropout(0.3))\n",
    "model.add(tf.keras.layers.Dense(3, activation='softmax'))"
   ]
  },
  {
   "cell_type": "code",
   "execution_count": 39,
   "id": "b37f7c11-5d85-4d6e-a9aa-9048c331b6cb",
   "metadata": {},
   "outputs": [],
   "source": [
    "model.compile(\n",
    "    loss = tf.keras.losses.SparseCategoricalCrossentropy(),\n",
    "    optimizer= tf.keras.optimizers.Adam(learning_rate= 0.001),\n",
    "    metrics=['accuracy']\n",
    ")"
   ]
  },
  {
   "cell_type": "code",
   "execution_count": 42,
   "id": "bbfabbf6-6b4e-486b-9ae7-dda3386c8730",
   "metadata": {
    "scrolled": true
   },
   "outputs": [
    {
     "name": "stdout",
     "output_type": "stream",
     "text": [
      "Epoch 1/100\n"
     ]
    },
    {
     "name": "stdout",
     "output_type": "stream",
     "text": [
      "1/1 - 0s - 145ms/step - accuracy: 0.7812 - loss: 0.5710\n",
      "Epoch 2/100\n",
      "1/1 - 0s - 146ms/step - accuracy: 0.7812 - loss: 0.5440\n",
      "Epoch 3/100\n",
      "1/1 - 0s - 140ms/step - accuracy: 0.7812 - loss: 0.5556\n",
      "Epoch 4/100\n",
      "1/1 - 0s - 147ms/step - accuracy: 0.8125 - loss: 0.5764\n",
      "Epoch 5/100\n",
      "1/1 - 0s - 150ms/step - accuracy: 0.7812 - loss: 0.5426\n",
      "Epoch 6/100\n",
      "1/1 - 0s - 146ms/step - accuracy: 0.7812 - loss: 0.5612\n",
      "Epoch 7/100\n",
      "1/1 - 0s - 139ms/step - accuracy: 0.7500 - loss: 0.5888\n",
      "Epoch 8/100\n",
      "1/1 - 0s - 141ms/step - accuracy: 0.7812 - loss: 0.5608\n",
      "Epoch 9/100\n",
      "1/1 - 0s - 137ms/step - accuracy: 0.7812 - loss: 0.5599\n",
      "Epoch 10/100\n",
      "1/1 - 0s - 140ms/step - accuracy: 0.7812 - loss: 0.5704\n",
      "Epoch 11/100\n",
      "1/1 - 0s - 137ms/step - accuracy: 0.7812 - loss: 0.5639\n",
      "Epoch 12/100\n",
      "1/1 - 0s - 139ms/step - accuracy: 0.7812 - loss: 0.5511\n",
      "Epoch 13/100\n",
      "1/1 - 0s - 139ms/step - accuracy: 0.7812 - loss: 0.5471\n",
      "Epoch 14/100\n",
      "1/1 - 0s - 138ms/step - accuracy: 0.7812 - loss: 0.5482\n",
      "Epoch 15/100\n",
      "1/1 - 0s - 144ms/step - accuracy: 0.7812 - loss: 0.5521\n",
      "Epoch 16/100\n",
      "1/1 - 0s - 135ms/step - accuracy: 0.7500 - loss: 0.5350\n",
      "Epoch 17/100\n",
      "1/1 - 0s - 127ms/step - accuracy: 0.7812 - loss: 0.5542\n",
      "Epoch 18/100\n",
      "1/1 - 0s - 125ms/step - accuracy: 0.7812 - loss: 0.5477\n",
      "Epoch 19/100\n",
      "1/1 - 0s - 120ms/step - accuracy: 0.8125 - loss: 0.5319\n",
      "Epoch 20/100\n",
      "1/1 - 0s - 124ms/step - accuracy: 0.7812 - loss: 0.5474\n",
      "Epoch 21/100\n",
      "1/1 - 0s - 123ms/step - accuracy: 0.7812 - loss: 0.5630\n",
      "Epoch 22/100\n",
      "1/1 - 0s - 135ms/step - accuracy: 0.7812 - loss: 0.5330\n",
      "Epoch 23/100\n",
      "1/1 - 0s - 147ms/step - accuracy: 0.7500 - loss: 0.5472\n",
      "Epoch 24/100\n",
      "1/1 - 0s - 139ms/step - accuracy: 0.7812 - loss: 0.5280\n",
      "Epoch 25/100\n",
      "1/1 - 0s - 136ms/step - accuracy: 0.7812 - loss: 0.5309\n",
      "Epoch 26/100\n",
      "1/1 - 0s - 132ms/step - accuracy: 0.7812 - loss: 0.5225\n",
      "Epoch 27/100\n",
      "1/1 - 0s - 125ms/step - accuracy: 0.7812 - loss: 0.5154\n",
      "Epoch 28/100\n",
      "1/1 - 0s - 126ms/step - accuracy: 0.7812 - loss: 0.5315\n",
      "Epoch 29/100\n",
      "1/1 - 0s - 131ms/step - accuracy: 0.7812 - loss: 0.5432\n",
      "Epoch 30/100\n",
      "1/1 - 0s - 129ms/step - accuracy: 0.7812 - loss: 0.5033\n",
      "Epoch 31/100\n",
      "1/1 - 0s - 127ms/step - accuracy: 0.7500 - loss: 0.5234\n",
      "Epoch 32/100\n",
      "1/1 - 0s - 130ms/step - accuracy: 0.7500 - loss: 0.5336\n",
      "Epoch 33/100\n",
      "1/1 - 0s - 127ms/step - accuracy: 0.7500 - loss: 0.5273\n",
      "Epoch 34/100\n",
      "1/1 - 0s - 129ms/step - accuracy: 0.7812 - loss: 0.4897\n",
      "Epoch 35/100\n",
      "1/1 - 0s - 130ms/step - accuracy: 0.7812 - loss: 0.4843\n",
      "Epoch 36/100\n",
      "1/1 - 0s - 123ms/step - accuracy: 0.7500 - loss: 0.5213\n",
      "Epoch 37/100\n",
      "1/1 - 0s - 137ms/step - accuracy: 0.7500 - loss: 0.4878\n",
      "Epoch 38/100\n",
      "1/1 - 0s - 139ms/step - accuracy: 0.7500 - loss: 0.5239\n",
      "Epoch 39/100\n",
      "1/1 - 0s - 132ms/step - accuracy: 0.7812 - loss: 0.5132\n",
      "Epoch 40/100\n",
      "1/1 - 0s - 131ms/step - accuracy: 0.7500 - loss: 0.5111\n",
      "Epoch 41/100\n",
      "1/1 - 0s - 136ms/step - accuracy: 0.7500 - loss: 0.5786\n",
      "Epoch 42/100\n",
      "1/1 - 0s - 131ms/step - accuracy: 0.7500 - loss: 0.4823\n",
      "Epoch 43/100\n",
      "1/1 - 0s - 130ms/step - accuracy: 0.7812 - loss: 0.4811\n",
      "Epoch 44/100\n",
      "1/1 - 0s - 126ms/step - accuracy: 0.7812 - loss: 0.4838\n",
      "Epoch 45/100\n",
      "1/1 - 0s - 126ms/step - accuracy: 0.7812 - loss: 0.4631\n",
      "Epoch 46/100\n",
      "1/1 - 0s - 129ms/step - accuracy: 0.7812 - loss: 0.4228\n",
      "Epoch 47/100\n",
      "1/1 - 0s - 124ms/step - accuracy: 0.7812 - loss: 0.4795\n",
      "Epoch 48/100\n",
      "1/1 - 0s - 126ms/step - accuracy: 0.7812 - loss: 0.4306\n",
      "Epoch 49/100\n",
      "1/1 - 0s - 130ms/step - accuracy: 0.7500 - loss: 0.4291\n",
      "Epoch 50/100\n",
      "1/1 - 0s - 132ms/step - accuracy: 0.7188 - loss: 0.4865\n",
      "Epoch 51/100\n",
      "1/1 - 0s - 124ms/step - accuracy: 0.7500 - loss: 0.5176\n",
      "Epoch 52/100\n",
      "1/1 - 0s - 128ms/step - accuracy: 0.7812 - loss: 0.4733\n",
      "Epoch 53/100\n",
      "1/1 - 0s - 128ms/step - accuracy: 0.7500 - loss: 0.5673\n",
      "Epoch 54/100\n",
      "1/1 - 0s - 131ms/step - accuracy: 0.7500 - loss: 0.4537\n",
      "Epoch 55/100\n",
      "1/1 - 0s - 129ms/step - accuracy: 0.7812 - loss: 0.3913\n",
      "Epoch 56/100\n",
      "1/1 - 0s - 131ms/step - accuracy: 0.7812 - loss: 0.4432\n",
      "Epoch 57/100\n",
      "1/1 - 0s - 131ms/step - accuracy: 0.7812 - loss: 0.4741\n",
      "Epoch 58/100\n",
      "1/1 - 0s - 127ms/step - accuracy: 0.7188 - loss: 0.4566\n",
      "Epoch 59/100\n",
      "1/1 - 0s - 128ms/step - accuracy: 0.7812 - loss: 0.4035\n",
      "Epoch 60/100\n",
      "1/1 - 0s - 129ms/step - accuracy: 0.7812 - loss: 0.4051\n",
      "Epoch 61/100\n",
      "1/1 - 0s - 140ms/step - accuracy: 0.7500 - loss: 0.3918\n",
      "Epoch 62/100\n",
      "1/1 - 0s - 132ms/step - accuracy: 0.7812 - loss: 0.3924\n",
      "Epoch 63/100\n",
      "1/1 - 0s - 131ms/step - accuracy: 0.7500 - loss: 0.5922\n",
      "Epoch 64/100\n",
      "1/1 - 0s - 127ms/step - accuracy: 0.7812 - loss: 0.3729\n",
      "Epoch 65/100\n",
      "1/1 - 0s - 132ms/step - accuracy: 0.7812 - loss: 0.4375\n",
      "Epoch 66/100\n",
      "1/1 - 0s - 131ms/step - accuracy: 0.7500 - loss: 0.4109\n",
      "Epoch 67/100\n",
      "1/1 - 0s - 130ms/step - accuracy: 0.7188 - loss: 0.8382\n",
      "Epoch 68/100\n",
      "1/1 - 0s - 130ms/step - accuracy: 0.7500 - loss: 0.5063\n",
      "Epoch 69/100\n",
      "1/1 - 0s - 131ms/step - accuracy: 0.7500 - loss: 0.5449\n",
      "Epoch 70/100\n",
      "1/1 - 0s - 131ms/step - accuracy: 0.6875 - loss: 0.5886\n",
      "Epoch 71/100\n",
      "1/1 - 0s - 129ms/step - accuracy: 0.6875 - loss: 0.6247\n",
      "Epoch 72/100\n",
      "1/1 - 0s - 134ms/step - accuracy: 0.6250 - loss: 0.8367\n",
      "Epoch 73/100\n",
      "1/1 - 0s - 135ms/step - accuracy: 0.7500 - loss: 0.6783\n",
      "Epoch 74/100\n",
      "1/1 - 0s - 131ms/step - accuracy: 0.7500 - loss: 0.5890\n",
      "Epoch 75/100\n",
      "1/1 - 0s - 128ms/step - accuracy: 0.7500 - loss: 0.5266\n",
      "Epoch 76/100\n",
      "1/1 - 0s - 158ms/step - accuracy: 0.7500 - loss: 0.5722\n",
      "Epoch 77/100\n",
      "1/1 - 0s - 131ms/step - accuracy: 0.7500 - loss: 0.5883\n",
      "Epoch 78/100\n",
      "1/1 - 0s - 130ms/step - accuracy: 0.7812 - loss: 0.5352\n",
      "Epoch 79/100\n",
      "1/1 - 0s - 127ms/step - accuracy: 0.7500 - loss: 0.5386\n",
      "Epoch 80/100\n",
      "1/1 - 0s - 124ms/step - accuracy: 0.7500 - loss: 0.5249\n",
      "Epoch 81/100\n",
      "1/1 - 0s - 123ms/step - accuracy: 0.8125 - loss: 0.4952\n",
      "Epoch 82/100\n",
      "1/1 - 0s - 122ms/step - accuracy: 0.7812 - loss: 0.4981\n",
      "Epoch 83/100\n",
      "1/1 - 0s - 130ms/step - accuracy: 0.7812 - loss: 0.5071\n",
      "Epoch 84/100\n",
      "1/1 - 0s - 123ms/step - accuracy: 0.7812 - loss: 0.5035\n",
      "Epoch 85/100\n",
      "1/1 - 0s - 126ms/step - accuracy: 0.7812 - loss: 0.5275\n",
      "Epoch 86/100\n",
      "1/1 - 0s - 126ms/step - accuracy: 0.7812 - loss: 0.4648\n",
      "Epoch 87/100\n",
      "1/1 - 0s - 124ms/step - accuracy: 0.7812 - loss: 0.4890\n",
      "Epoch 88/100\n",
      "1/1 - 0s - 125ms/step - accuracy: 0.7812 - loss: 0.4674\n",
      "Epoch 89/100\n",
      "1/1 - 0s - 123ms/step - accuracy: 0.7500 - loss: 0.4944\n",
      "Epoch 90/100\n",
      "1/1 - 0s - 122ms/step - accuracy: 0.7812 - loss: 0.4739\n",
      "Epoch 91/100\n",
      "1/1 - 0s - 124ms/step - accuracy: 0.7812 - loss: 0.4805\n",
      "Epoch 92/100\n",
      "1/1 - 0s - 125ms/step - accuracy: 0.7812 - loss: 0.5100\n",
      "Epoch 93/100\n",
      "1/1 - 0s - 130ms/step - accuracy: 0.7812 - loss: 0.4643\n",
      "Epoch 94/100\n",
      "1/1 - 0s - 122ms/step - accuracy: 0.7812 - loss: 0.4869\n",
      "Epoch 95/100\n",
      "1/1 - 0s - 126ms/step - accuracy: 0.7812 - loss: 0.4786\n",
      "Epoch 96/100\n",
      "1/1 - 0s - 124ms/step - accuracy: 0.7812 - loss: 0.4796\n",
      "Epoch 97/100\n",
      "1/1 - 0s - 125ms/step - accuracy: 0.7812 - loss: 0.4700\n",
      "Epoch 98/100\n",
      "1/1 - 0s - 122ms/step - accuracy: 0.7812 - loss: 0.4642\n",
      "Epoch 99/100\n",
      "1/1 - 0s - 125ms/step - accuracy: 0.7812 - loss: 0.4890\n",
      "Epoch 100/100\n",
      "1/1 - 0s - 122ms/step - accuracy: 0.7812 - loss: 0.4377\n"
     ]
    },
    {
     "data": {
      "text/plain": [
       "<keras.src.callbacks.history.History at 0x21dd7b5c230>"
      ]
     },
     "execution_count": 42,
     "metadata": {},
     "output_type": "execute_result"
    }
   ],
   "source": [
    "model.fit(x_train, y_train, batch_size = 50, epochs = 100, verbose = 2)"
   ]
  },
  {
   "cell_type": "code",
   "execution_count": 43,
   "id": "82d4047b-b23b-490f-b49f-1ce580499b22",
   "metadata": {},
   "outputs": [
    {
     "name": "stdout",
     "output_type": "stream",
     "text": [
      "1/1 - 0s - 51ms/step - accuracy: 0.7500 - loss: 0.4695\n"
     ]
    },
    {
     "data": {
      "text/plain": [
       "[0.4695218503475189, 0.75]"
      ]
     },
     "execution_count": 43,
     "metadata": {},
     "output_type": "execute_result"
    }
   ],
   "source": [
    "model.evaluate(x_test, y_test, verbose=2)"
   ]
  }
 ],
 "metadata": {
  "kernelspec": {
   "display_name": "Python 3 (ipykernel)",
   "language": "python",
   "name": "python3"
  },
  "language_info": {
   "codemirror_mode": {
    "name": "ipython",
    "version": 3
   },
   "file_extension": ".py",
   "mimetype": "text/x-python",
   "name": "python",
   "nbconvert_exporter": "python",
   "pygments_lexer": "ipython3",
   "version": "3.12.8"
  }
 },
 "nbformat": 4,
 "nbformat_minor": 5
}
